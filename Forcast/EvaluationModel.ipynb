{
 "cells": [
  {
   "cell_type": "markdown",
   "metadata": {},
   "source": [
    "## 1. Import libraries"
   ]
  },
  {
   "cell_type": "code",
   "execution_count": null,
   "metadata": {},
   "outputs": [],
   "source": [
    "import pandas as pd\n",
    "import json\n",
    "import joblib\n",
    "import tempfile\n",
    "\n",
    "\n",
    "import matplotlib.pyplot as plt\n",
    "import numpy as np\n",
    "from sklearn.metrics import mean_squared_error, mean_absolute_error, r2_score\n",
    "from sklearn.model_selection import train_test_split\n",
    "from sklearn.preprocessing import MinMaxScaler\n",
    "import keras_tuner as kt\n",
    "\n",
    "import tensorflow as tf\n",
    "from tensorflow.keras.models import Sequential, load_model\n",
    "from tensorflow.keras.layers import SimpleRNN, Dense, Dropout, Input\n",
    "from tensorflow.keras.optimizers import Adam, RMSprop\n",
    "from tensorflow.keras.layers import LSTM\n",
    "from tensorflow.keras.preprocessing.sequence import TimeseriesGenerator\n",
    "\n",
    "from common import  trino_connection, trino_connection,  detrend, deseason, scale_minmax, minio_client,\\\n",
    "    inverse_transform, add_season, add_trend\n",
    "from config import get_selected_items_faostat\n",
    "from datetime import datetime"
   ]
  },
  {
   "cell_type": "code",
   "execution_count": 50,
   "metadata": {},
   "outputs": [],
   "source": [
    "import warnings\n",
    "warnings.simplefilter(action='ignore', category=FutureWarning)\n",
    "warnings.simplefilter(action='ignore', category=UserWarning)"
   ]
  },
  {
   "cell_type": "markdown",
   "metadata": {},
   "source": [
    "## 2. Load data"
   ]
  },
  {
   "cell_type": "code",
   "execution_count": null,
   "metadata": {},
   "outputs": [],
   "source": [
    "def load_crop_data(crop_code):\n",
    "    sql_query = f\"\"\"\n",
    "            SELECT  ff.ProducerPrice_LCU_tonne_LCU_month as Price,\n",
    "                    fw.Temp, fw.Humidity, fw.Precip, fw.Solarenergy,\n",
    "                    dd.DateINT,\n",
    "                    dd.Date,\n",
    "                    ff.CropCode\n",
    "            FROM \"default\".fact_faostat AS ff           \n",
    "                JOIN (SELECT DateINT,YearMonth, Date \n",
    "                        FROM \"default\".dim_date\n",
    "                        WHERE Date >= DATE'2011-01-01' \n",
    "                            AND Date <= DATE '2023-12-01') AS dd\n",
    "                    ON dd.DateINT = ff.DateINT\n",
    "                JOIN (\n",
    "                        Select dateint, Avg(temp) as temp, Avg(humidity) as humidity, \n",
    "                            Avg(precip) as precip, Avg(solarenergy) as solarenergy\n",
    "                        FROM\"default\".fact_weather \n",
    "                        group by dateint\n",
    "                    )AS fw\n",
    "                    ON fw.DateINT = ff.DateINT\n",
    "            WHERE ProducerPrice_SLC_tonne_SLC_month IS NULL\n",
    "                AND ff.CropCode = {crop_code}\n",
    "            ORDER BY dd.YearMonth\n",
    "        \"\"\"\n",
    "    df_pandas = pd.read_sql(sql_query, trino_connection())\n",
    "    df_pandas.interpolate(method='linear', inplace=True, limit_direction='both')\n",
    "\n",
    "    \n",
    "    return df_pandas"
   ]
  },
  {
   "cell_type": "markdown",
   "metadata": {},
   "source": [
    "## 3. Data Preprocessing\n",
    "### Detrended data\n",
    "### Deseasoned\n",
    "### Standardization MinMax"
   ]
  },
  {
   "cell_type": "code",
   "execution_count": null,
   "metadata": {},
   "outputs": [],
   "source": [
    "def preprocess_data(time_series):\n",
    "    \n",
    "    time_series_price = time_series[:, 0]\n",
    "\n",
    "    time_series_detrended, trend_model = detrend(time_series_price)\n",
    "    time_series_deseasoned, seasonal_avg =  deseason(time_series_detrended)\n",
    "\n",
    "    time_series[:, 0] = time_series_deseasoned \n",
    "\n",
    "    time_series_scaled, scaler = scale_minmax(time_series)\n",
    "    return time_series_scaled, trend_model, seasonal_avg, scaler\n",
    "\n",
    "def preprocess_data_2(data, trend_model, seasonal_avg, scaler, pedict_indx = 0):\n",
    "\n",
    "    price = data[:, 0]\n",
    "    price_detrended, _ = detrend(price, trend_model, pedict_indx)\n",
    "    price_deseasoned, _ = deseason(price_detrended, seasonal_avg)\n",
    "    data[:, 0] = price_deseasoned  \n",
    "\n",
    "    data_scaled, _ = scale_minmax(data, scaler)\n",
    "    return data_scaled"
   ]
  },
  {
   "cell_type": "code",
   "execution_count": null,
   "metadata": {},
   "outputs": [],
   "source": [
    "def repreprocess_data(time_series, trend_model, seasonal_avg, scaler, pedict_indx, prediction_length):\n",
    "      \n",
    "    time_series_inversed = inverse_transform(time_series, scaler)\n",
    "\n",
    "    time_series_addseasoned =  add_season(time_series_inversed[:,0], seasonal_avg)\n",
    "    time_series_addtrended = add_trend(time_series_addseasoned, trend_model, pedict_indx, prediction_length)\n",
    "    \n",
    "    return time_series_addtrended"
   ]
  },
  {
   "cell_type": "markdown",
   "metadata": {},
   "source": [
    "## 4. Model"
   ]
  },
  {
   "cell_type": "code",
   "execution_count": null,
   "metadata": {},
   "outputs": [],
   "source": [
    "num_rnn_layer_list = [1, 2, 3]\n",
    "num_lstm_layer_list = [1, 2, 3]\n",
    "units_list = [32, 64, 128]\n",
    "sequence_lengths = [6, 12]\n",
    "\n",
    "features = [\"Price\", \"Temp\", \"Humidity\", \"Precip\", \"Solarenergy\"]"
   ]
  },
  {
   "cell_type": "markdown",
   "metadata": {},
   "source": [
    "### 4.1 RNN"
   ]
  },
  {
   "cell_type": "code",
   "execution_count": null,
   "metadata": {},
   "outputs": [],
   "source": [
    "def build_model_rnn(hp, input_shape):\n",
    "\n",
    "    model = Sequential()\n",
    "    num_rnn_layer = hp.Choice(f'num_rnn_layer', num_rnn_layer_list)\n",
    "    units = hp.Choice(f'units', units_list)\n",
    "    dropout = 0.1\n",
    "\n",
    "    model.add(Input(shape=input_shape))\n",
    "    for i in range(num_rnn_layer):\n",
    "        return_sequences = (i < num_rnn_layer - 1)\n",
    "\n",
    "        model.add(SimpleRNN(units, activation='tanh',\n",
    "                           return_sequences=return_sequences))\n",
    "        if dropout > 0:\n",
    "            model.add(Dropout(dropout))\n",
    "\n",
    "    model.add(Dense(1))\n",
    "    model.compile(optimizer=RMSprop(0.001), loss='mse')\n",
    "\n",
    "    return model"
   ]
  },
  {
   "cell_type": "markdown",
   "metadata": {},
   "source": [
    "### 4.2 LSTM"
   ]
  },
  {
   "cell_type": "code",
   "execution_count": null,
   "metadata": {},
   "outputs": [],
   "source": [
    "def build_model_lstm(hp, input_shape):\n",
    "\n",
    "    model = Sequential()\n",
    "    num_lstm_layer = hp.Choice(f'num_lstm_layer', num_lstm_layer_list)\n",
    "    units = hp.Choice(f'units', units_list)\n",
    "    dropout = 0.1\n",
    "\n",
    "    model.add(Input(shape=input_shape))\n",
    "    for i in range(num_lstm_layer):\n",
    "        return_sequences = (i < num_lstm_layer - 1)\n",
    "        \n",
    "        model.add(LSTM(units, activation='tanh',\n",
    "                           return_sequences=return_sequences))\n",
    "        if dropout > 0:\n",
    "            model.add(Dropout(dropout))\n",
    "\n",
    "    model.add(Dense(1))\n",
    "    model.compile(optimizer=RMSprop(0.001), loss='mse')\n",
    "    \n",
    "    return model"
   ]
  },
  {
   "cell_type": "markdown",
   "metadata": {},
   "source": [
    "## 5. Tune and Train"
   ]
  },
  {
   "cell_type": "code",
   "execution_count": null,
   "metadata": {},
   "outputs": [],
   "source": [
    "def tune_and_train(time_series, model_type='lstm', crop_code = ''):\n",
    "    best_result = None\n",
    "    best_loss = float('inf')\n",
    "    hp = kt.HyperParameters()\n",
    "    epochs = hp.Choice('epochs', [100, 200])\n",
    "    epochs = 200\n",
    "    build_model = build_model_lstm if model_type == 'lstm' else build_model_rnn\n",
    "    for seq_len in sequence_lengths:\n",
    "        print(f\"Tuning with seq_len = {seq_len}\")\n",
    "\n",
    "        split_index = int(len(time_series) * 0.8)\n",
    "        y_train = time_series[:split_index]\n",
    "        y_val = time_series[split_index:]\n",
    "\n",
    "        train_gen = TimeseriesGenerator(y_train, y_train[:, 0], length=seq_len, batch_size=16)\n",
    "        val_gen = TimeseriesGenerator(y_val, y_val[:, 0], length=seq_len, batch_size=16)\n",
    "\n",
    "        input_shape = (seq_len, len(features))\n",
    "\n",
    "        tuner = kt.GridSearch(\n",
    "            hypermodel=lambda hp: build_model(hp, input_shape),\n",
    "            objective='val_loss',\n",
    "            max_trials=20,\n",
    "            executions_per_trial=1,\n",
    "            directory=f'{model_type}_tuning',\n",
    "            project_name=f'seq_len_{seq_len}',\n",
    "            overwrite=True \n",
    "        )\n",
    "        \n",
    "        tuner.search(train_gen, validation_data=val_gen, epochs=epochs, verbose = 1, batch_size=32)\n",
    "\n",
    "        best_hp = tuner.get_best_hyperparameters(1)[0]\n",
    "        best_model = tuner.get_best_models(1)[0]\n",
    "        val_loss = best_model.evaluate(val_gen, verbose=0)\n",
    "\n",
    "        print(f\"Best loss for seq_len={seq_len}: {val_loss}\")\n",
    "\n",
    "        if val_loss < best_loss:\n",
    "            best_loss = val_loss\n",
    "            best_result = best_hp.values\n",
    "            best_result['seq_len'] = seq_len\n",
    "            best_result['val_loss'] = val_loss\n",
    "            \n",
    "\n",
    "    return best_model, best_result"
   ]
  },
  {
   "cell_type": "markdown",
   "metadata": {},
   "source": [
    "## 6. Evaluation"
   ]
  },
  {
   "cell_type": "code",
   "execution_count": null,
   "metadata": {},
   "outputs": [],
   "source": [
    "def evaluation_model(crop_code, prediction_length = 60, model_type='lstm'):\n",
    "\n",
    "    data = load_crop_data(crop_code)\n",
    "    data_features = data[features].values\n",
    "\n",
    "    split_index = int(len(data_features) * 0.75)\n",
    "    \n",
    "    y_train_origin = data_features[:split_index].copy()\n",
    "    \n",
    "    y_train, trend_model, seasonal_avg, scaler= preprocess_data(y_train_origin.copy())\n",
    "\n",
    "    model, hyperparams = tune_and_train(y_train, model_type=model_type)\n",
    "\n",
    "    seq_length = hyperparams['seq_len']\n",
    "\n",
    "    y_val_origin = data_features[split_index-seq_length+1:].copy()\n",
    "    y_val = preprocess_data_2(y_val_origin.copy(), trend_model, seasonal_avg, scaler, split_index - seq_length+1)\n",
    "    \n",
    "    y_val_gen = TimeseriesGenerator(y_val, y_val[:, 0], length=seq_length, batch_size=16)\n",
    "\n",
    "    predictions = model.predict(y_val_gen, verbose=0)\n",
    "\n",
    "    predictions = repreprocess_data(predictions, trend_model, seasonal_avg, scaler, split_index, prediction_length)\n",
    "    y_val = repreprocess_data(y_val, trend_model, seasonal_avg, scaler, split_index-seq_length+1, prediction_length)\n",
    "\n",
    "    return predictions,  y_val_origin[seq_length:], hyperparams, model\n"
   ]
  },
  {
   "cell_type": "code",
   "execution_count": null,
   "metadata": {},
   "outputs": [
    {
     "name": "stdout",
     "output_type": "stream",
     "text": [
      "Trial 1 Complete [00h 00m 32s]\n",
      "val_loss: 0.00014595639368053526\n",
      "\n",
      "Best val_loss So Far: 0.00014595639368053526\n",
      "Total elapsed time: 00h 00m 32s\n",
      "Best loss for seq_len=6: 0.00014595639368053526\n"
     ]
    }
   ],
   "source": [
    "rnn_predict, actual, rnn_hyperparams, rnn_model  = evaluation_model(687, prediction_length=60, model_type='rnn')"
   ]
  },
  {
   "cell_type": "code",
   "execution_count": null,
   "metadata": {},
   "outputs": [
    {
     "name": "stdout",
     "output_type": "stream",
     "text": [
      "Trial 1 Complete [00h 00m 37s]\n",
      "val_loss: 0.0003068092337343842\n",
      "\n",
      "Best val_loss So Far: 0.0003068092337343842\n",
      "Total elapsed time: 00h 00m 37s\n",
      "Best loss for seq_len=6: 0.0003068092337343842\n"
     ]
    }
   ],
   "source": [
    "lstm_predict, _ , lstm_hyperparams, lstm_model = evaluation_model(687, prediction_length=60, model_type='lstm')"
   ]
  },
  {
   "cell_type": "code",
   "execution_count": 224,
   "metadata": {},
   "outputs": [
    {
     "data": {
      "image/png": "[encoded data removed]",
      "text/plain": [
       "<Figure size 1200x600 with 1 Axes>"
      ]
     },
     "metadata": {},
     "output_type": "display_data"
    }
   ],
   "source": [
    "date_range = pd.date_range(start='2021-01', end='2023-12', freq='MS') \n",
    "date_array = date_range.to_numpy()\n",
    "\n",
    "plt.figure(figsize=(12, 6))\n",
    "plt.plot(date_array, actual[:-2] , label=\"Thực tế\", linestyle='dashed')\n",
    "plt.plot(date_array, rnn_predict[2:], label=\"Dự đoán RNN\")\n",
    "plt.plot(date_array, lstm_predict[2:] , label=\"Dự đoán LSTM\")\n",
    "plt.ylabel(\"Giá\")\n",
    "plt.legend()\n",
    "plt.show()  "
   ]
  },
  {
   "cell_type": "code",
   "execution_count": 226,
   "metadata": {},
   "outputs": [
    {
     "data": {
      "text/html": [
       "<div>\n",
       "<style scoped>\n",
       "    .dataframe tbody tr th:only-of-type {\n",
       "        vertical-align: middle;\n",
       "    }\n",
       "\n",
       "    .dataframe tbody tr th {\n",
       "        vertical-align: top;\n",
       "    }\n",
       "\n",
       "    .dataframe thead th {\n",
       "        text-align: right;\n",
       "    }\n",
       "</style>\n",
       "<table border=\"1\" class=\"dataframe\">\n",
       "  <thead>\n",
       "    <tr style=\"text-align: right;\">\n",
       "      <th></th>\n",
       "      <th>Evaluation criteria</th>\n",
       "      <th>RNN</th>\n",
       "      <th>LSTM</th>\n",
       "    </tr>\n",
       "  </thead>\n",
       "  <tbody>\n",
       "    <tr>\n",
       "      <th>0</th>\n",
       "      <td>MSE</td>\n",
       "      <td>9.815174e+12</td>\n",
       "      <td>2.286151e+12</td>\n",
       "    </tr>\n",
       "    <tr>\n",
       "      <th>1</th>\n",
       "      <td>RMSE</td>\n",
       "      <td>3.132918e+06</td>\n",
       "      <td>1.512002e+06</td>\n",
       "    </tr>\n",
       "    <tr>\n",
       "      <th>2</th>\n",
       "      <td>MAE</td>\n",
       "      <td>2.637868e+06</td>\n",
       "      <td>1.183255e+06</td>\n",
       "    </tr>\n",
       "    <tr>\n",
       "      <th>3</th>\n",
       "      <td>R² Score</td>\n",
       "      <td>8.626101e-01</td>\n",
       "      <td>9.679991e-01</td>\n",
       "    </tr>\n",
       "  </tbody>\n",
       "</table>\n",
       "</div>"
      ],
      "text/plain": [
       "  Evaluation criteria           RNN          LSTM\n",
       "0                 MSE  9.815174e+12  2.286151e+12\n",
       "1                RMSE  3.132918e+06  1.512002e+06\n",
       "2                 MAE  2.637868e+06  1.183255e+06\n",
       "3            R² Score  8.626101e-01  9.679991e-01"
      ]
     },
     "execution_count": 226,
     "metadata": {},
     "output_type": "execute_result"
    }
   ],
   "source": [
    "rnn_mse = mean_squared_error(actual[:-2], rnn_predict[2:])\n",
    "rnn_rmse = np.sqrt(rnn_mse)\n",
    "rnn_mae = mean_absolute_error(actual[:-2], rnn_predict[2:])\n",
    "rnn_r2 = r2_score(actual[:-2], rnn_predict[2:])\n",
    "\n",
    "lstm_mse = mean_squared_error(actual[:-2], lstm_predict[2:])\n",
    "lstm_rmse = np.sqrt(lstm_mse)\n",
    "lstm_mae = mean_absolute_error(actual[:-2], lstm_predict[2:])\n",
    "lstm_r2 = r2_score(actual[:-2], lstm_predict[2:])\n",
    "\n",
    "df_evaluate = pd.DataFrame({\"Evaluation criteria\"   : [\"MSE\", \"RMSE\", \"MAE\", \"R² Score\"],\n",
    "                            \"RNN\"                  : [rnn_mse, rnn_rmse, rnn_mae, rnn_r2],\n",
    "                            \"LSTM\"                 : [lstm_mse, lstm_rmse, lstm_mae, lstm_r2]})\n",
    "\n",
    "df_evaluate\n"
   ]
  },
  {
   "cell_type": "code",
   "execution_count": null,
   "metadata": {},
   "outputs": [
    {
     "name": "stderr",
     "output_type": "stream",
     "text": [
      "WARNING:absl:You are saving your model as an HDF5 file via `model.save()` or `keras.saving.save_model(model)`. This file format is considered legacy. We recommend using instead the native Keras format, e.g. `model.save('my_model.keras')` or `keras.saving.save_model(model, 'my_model.keras')`. \n"
     ]
    }
   ],
   "source": [
    "rnn_model.save(f'..\\save_model\\crop_{687}_price_rnn_model.h5')\n",
    "lstm_model.save(f'..\\save_model\\crop_{687}_price_lstm_model.h5')"
   ]
  }
 ],
 "metadata": {
  "kernelspec": {
   "display_name": ".venv",
   "language": "python",
   "name": "python3"
  },
  "language_info": {
   "codemirror_mode": {
    "name": "ipython",
    "version": 3
   },
   "file_extension": ".py",
   "mimetype": "text/x-python",
   "name": "python",
   "nbconvert_exporter": "python",
   "pygments_lexer": "ipython3",
   "version": "3.11.1"
  }
 },
 "nbformat": 4,
 "nbformat_minor": 2
}
